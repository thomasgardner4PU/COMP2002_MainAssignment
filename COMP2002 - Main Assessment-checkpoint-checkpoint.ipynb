{
 "cells": [
  {
   "cell_type": "markdown",
   "id": "3d3757ba",
   "metadata": {},
   "source": [
    "# Part 1 - Machine Learning"
   ]
  },
  {
   "cell_type": "markdown",
   "id": "deeac3dd",
   "metadata": {},
   "source": [
    "Task 1.1 Data preperation"
   ]
  },
  {
   "cell_type": "code",
   "execution_count": 58,
   "id": "f5c33ac3",
   "metadata": {},
   "outputs": [
    {
     "name": "stdout",
     "output_type": "stream",
     "text": [
      "     day  month  year  Temperature   RH   Ws  Rain   FFMC  DMC    DC  ISI  \\\n",
      "0      1      6  2012           29   57   18    0.0  65.7  3.4   7.6  1.3   \n",
      "1      2      6  2012           29   61   13    1.3  64.4  4.1   7.6  1.0   \n",
      "2      3      6  2012           26   82   22   13.1  47.1  2.5   7.1  0.3   \n",
      "3      4      6  2012           25   89   13    2.5  28.6  1.3   6.9  0.0   \n",
      "4      5      6  2012           27   77   16    0.0  64.8  3.0  14.2  1.2   \n",
      "..   ...    ...   ...          ...  ...  ...    ...   ...  ...   ...  ...   \n",
      "117   26      9  2012           31   54   11    0.0  82.0  6.0  16.3  2.5   \n",
      "118   27      9  2012           31   66   11    0.0  85.7  8.3  24.9  4.0   \n",
      "119   28      9  2012           32   47   14    0.7  77.5  7.1   8.8  1.8   \n",
      "120   29      9  2012           26   80   16    1.8  47.4  2.9   7.7  0.3   \n",
      "121   30      9  2012           25   78   14    1.4  45.0  1.9   7.5  0.2   \n",
      "\n",
      "     BUI  FWI  \n",
      "0    3.4  0.5  \n",
      "1    3.9  0.4  \n",
      "2    2.7  0.1  \n",
      "3    1.7  0.0  \n",
      "4    3.9  0.5  \n",
      "..   ...  ...  \n",
      "117  6.2  1.7  \n",
      "118  9.0  4.1  \n",
      "119  6.8  0.9  \n",
      "120  3.0  0.1  \n",
      "121  2.4  0.1  \n",
      "\n",
      "[122 rows x 13 columns]\n"
     ]
    }
   ],
   "source": [
    "import pandas as pd\n",
    "import numpy as np\n",
    "\n",
    "df1 = pd.read_csv(r'C:\\Users\\PC03\\Documents\\GitHub\\COMP2002_MainAssignment\\AlgerianFF_Region1.csv')\n",
    "print (df1)"
   ]
  },
  {
   "cell_type": "markdown",
   "id": "5cf8d090",
   "metadata": {},
   "source": [
    "Splitting data for dataset into inputs & targets for Dataset 1"
   ]
  },
  {
   "cell_type": "code",
   "execution_count": 59,
   "id": "b13f3752",
   "metadata": {},
   "outputs": [
    {
     "name": "stdout",
     "output_type": "stream",
     "text": [
      "[[1.000e+00 6.000e+00 2.012e+03 ... 7.600e+00 1.300e+00 3.400e+00]\n",
      " [2.000e+00 6.000e+00 2.012e+03 ... 7.600e+00 1.000e+00 3.900e+00]\n",
      " [3.000e+00 6.000e+00 2.012e+03 ... 7.100e+00 3.000e-01 2.700e+00]\n",
      " ...\n",
      " [2.800e+01 9.000e+00 2.012e+03 ... 8.800e+00 1.800e+00 6.800e+00]\n",
      " [2.900e+01 9.000e+00 2.012e+03 ... 7.700e+00 3.000e-01 3.000e+00]\n",
      " [3.000e+01 9.000e+00 2.012e+03 ... 7.500e+00 2.000e-01 2.400e+00]] [ 0.5  0.4  0.1  0.   0.5  2.5  7.2  7.1  0.3  0.9  5.6  7.1  0.2  0.4\n",
      "  0.1  0.   0.   0.2  1.4  0.4  2.2  2.3  3.8  7.5  8.4 10.6 15.  13.9\n",
      "  3.9 12.9  0.4  0.3  0.5  1.7  4.9  6.8  3.2  8.   0.6  0.5  2.2  0.9\n",
      "  3.4  0.8  0.5  0.4  3.6  6.  10.9  4.   8.8  2.8  2.1  1.3  7.3 15.3\n",
      " 15.3 11.3 11.9 10.7 15.7  0.9  0.8  0.8  3.9  6.1  6.8  8.   2.6  9.9\n",
      " 11.6 12.1  4.2 10.2 10.6  6.3  4.2 14.6 16.1 17.2 16.8 18.4 20.4 22.3\n",
      " 20.9 20.3 13.7 13.2 19.9 30.2  4.2  0.3  0.1  0.   0.   0.5  1.7  0.9\n",
      "  0.6  0.4  0.2  0.3  0.3  0.5  0.   0.1  0.   0.8  5.9  7.7  9.7  6.3\n",
      "  8.3  2.8  0.7  0.7  0.1  1.7  4.1  0.9  0.1  0.1]\n"
     ]
    }
   ],
   "source": [
    "df1_inputs = df1.values[:,:-1].astype(float)\n",
    "df1_targets = df1.values[:,-1].astype(float)\n",
    "print(df1_inputs, df1_targets)"
   ]
  },
  {
   "cell_type": "code",
   "execution_count": 60,
   "id": "88a8c5ee",
   "metadata": {},
   "outputs": [
    {
     "name": "stdout",
     "output_type": "stream",
     "text": [
      "     day  month  year  Temperature   RH   Ws  Rain   FFMC   DMC    DC  ISI  \\\n",
      "0      1      6  2012           32   71   12    0.7  57.1   2.5   8.2  0.6   \n",
      "1      2      6  2012           30   73   13    4.0  55.7   2.7   7.8  0.6   \n",
      "2      3      6  2012           29   80   14    2.0  48.7   2.2   7.6  0.3   \n",
      "3      4      6  2012           30   64   14    0.0  79.4   5.2  15.4  2.2   \n",
      "4      5      6  2012           32   60   14    0.2  77.1   6.0  17.6  1.8   \n",
      "..   ...    ...   ...          ...  ...  ...    ...   ...   ...   ...  ...   \n",
      "117   26      9  2012           30   65   14    0.0  85.4  16.0  44.5  4.5   \n",
      "118   27      9  2012           28   87   15    4.4  41.1   6.5   8.0  0.1   \n",
      "119   28      9  2012           27   87   29    0.5  45.9   3.5   7.9  0.4   \n",
      "120   29      9  2012           24   54   18    0.1  79.7   4.3  15.2  1.7   \n",
      "121   30      9  2012           24   64   15    0.2  67.3   3.8  16.5  1.2   \n",
      "\n",
      "      BUI  FWI  \n",
      "0     2.8  0.2  \n",
      "1     2.9  0.2  \n",
      "2     2.6  0.1  \n",
      "3     5.6  1.0  \n",
      "4     6.5  0.9  \n",
      "..    ...  ...  \n",
      "117  16.9  6.5  \n",
      "118   6.2  0.0  \n",
      "119   3.4  0.2  \n",
      "120   5.1  0.7  \n",
      "121   4.8  0.5  \n",
      "\n",
      "[122 rows x 13 columns]\n"
     ]
    }
   ],
   "source": [
    "import pandas as pd\n",
    "df2 = pd.read_csv (r'C:\\Users\\PC03\\Documents\\GitHub\\COMP2002_MainAssignment\\AlgerianFF_Region2.csv')\n",
    "print (df2)"
   ]
  },
  {
   "cell_type": "markdown",
   "id": "f73b12a2",
   "metadata": {},
   "source": [
    "Splitting data for dataset into inputs & targets for Dataset 2"
   ]
  },
  {
   "cell_type": "code",
   "execution_count": 61,
   "id": "b0a58b68",
   "metadata": {},
   "outputs": [
    {
     "name": "stdout",
     "output_type": "stream",
     "text": [
      "[[1.000e+00 6.000e+00 2.012e+03 ... 7.600e+00 1.300e+00 3.400e+00]\n",
      " [2.000e+00 6.000e+00 2.012e+03 ... 7.600e+00 1.000e+00 3.900e+00]\n",
      " [3.000e+00 6.000e+00 2.012e+03 ... 7.100e+00 3.000e-01 2.700e+00]\n",
      " ...\n",
      " [2.800e+01 9.000e+00 2.012e+03 ... 8.800e+00 1.800e+00 6.800e+00]\n",
      " [2.900e+01 9.000e+00 2.012e+03 ... 7.700e+00 3.000e-01 3.000e+00]\n",
      " [3.000e+01 9.000e+00 2.012e+03 ... 7.500e+00 2.000e-01 2.400e+00]] [ 0.5  0.4  0.1  0.   0.5  2.5  7.2  7.1  0.3  0.9  5.6  7.1  0.2  0.4\n",
      "  0.1  0.   0.   0.2  1.4  0.4  2.2  2.3  3.8  7.5  8.4 10.6 15.  13.9\n",
      "  3.9 12.9  0.4  0.3  0.5  1.7  4.9  6.8  3.2  8.   0.6  0.5  2.2  0.9\n",
      "  3.4  0.8  0.5  0.4  3.6  6.  10.9  4.   8.8  2.8  2.1  1.3  7.3 15.3\n",
      " 15.3 11.3 11.9 10.7 15.7  0.9  0.8  0.8  3.9  6.1  6.8  8.   2.6  9.9\n",
      " 11.6 12.1  4.2 10.2 10.6  6.3  4.2 14.6 16.1 17.2 16.8 18.4 20.4 22.3\n",
      " 20.9 20.3 13.7 13.2 19.9 30.2  4.2  0.3  0.1  0.   0.   0.5  1.7  0.9\n",
      "  0.6  0.4  0.2  0.3  0.3  0.5  0.   0.1  0.   0.8  5.9  7.7  9.7  6.3\n",
      "  8.3  2.8  0.7  0.7  0.1  1.7  4.1  0.9  0.1  0.1]\n"
     ]
    }
   ],
   "source": [
    "df2_inputs = df2.values[:,:-1].astype(float)\n",
    "df2_targets = df2.values[:,-1].astype(float)\n",
    "print(df1_inputs, df1_targets)"
   ]
  },
  {
   "cell_type": "markdown",
   "id": "73da125f",
   "metadata": {},
   "source": [
    "Noramlization"
   ]
  },
  {
   "cell_type": "code",
   "execution_count": 62,
   "id": "4b9a283e",
   "metadata": {
    "scrolled": true
   },
   "outputs": [
    {
     "name": "stdout",
     "output_type": "stream",
     "text": [
      "[[4.96475491e-04 2.97885295e-03 9.98908688e-01 ... 3.77321373e-03\n",
      "  6.45418138e-04 1.68801667e-03]\n",
      " [9.92931309e-04 2.97879393e-03 9.98888896e-01 ... 3.77313897e-03\n",
      "  4.96465654e-04 1.93621605e-03]\n",
      " [1.48914515e-03 2.97829030e-03 9.98720015e-01 ... 3.52431019e-03\n",
      "  1.48914515e-04 1.34023064e-03]\n",
      " ...\n",
      " [1.38985254e-02 4.46738316e-03 9.98708325e-01 ... 4.36810798e-03\n",
      "  8.93476633e-04 3.37535617e-03]\n",
      " [1.43947191e-02 4.46732663e-03 9.98695687e-01 ... 3.82204612e-03\n",
      "  1.48910888e-04 1.48910888e-03]\n",
      " [1.48921935e-02 4.46765806e-03 9.98769781e-01 ... 3.72304839e-03\n",
      "  9.92812903e-05 1.19137548e-03]]\n"
     ]
    }
   ],
   "source": [
    "from sklearn import preprocessing\n",
    "\n",
    "df1_inputs = preprocessing.normalize(df1_inputs)\n",
    "print(df1_inputs)"
   ]
  },
  {
   "cell_type": "code",
   "execution_count": 63,
   "id": "e72b3981",
   "metadata": {},
   "outputs": [
    {
     "name": "stdout",
     "output_type": "stream",
     "text": [
      "[[4.96475491e-04 2.97885295e-03 9.98908688e-01 ... 3.77321373e-03\n",
      "  6.45418138e-04 1.68801667e-03]\n",
      " [9.92931309e-04 2.97879393e-03 9.98888896e-01 ... 3.77313897e-03\n",
      "  4.96465654e-04 1.93621605e-03]\n",
      " [1.48914515e-03 2.97829030e-03 9.98720015e-01 ... 3.52431019e-03\n",
      "  1.48914515e-04 1.34023064e-03]\n",
      " ...\n",
      " [1.38985254e-02 4.46738316e-03 9.98708325e-01 ... 4.36810798e-03\n",
      "  8.93476633e-04 3.37535617e-03]\n",
      " [1.43947191e-02 4.46732663e-03 9.98695687e-01 ... 3.82204612e-03\n",
      "  1.48910888e-04 1.48910888e-03]\n",
      " [1.48921935e-02 4.46765806e-03 9.98769781e-01 ... 3.72304839e-03\n",
      "  9.92812903e-05 1.19137548e-03]]\n"
     ]
    }
   ],
   "source": [
    "df2_inputs = preprocessing.normalize(df2_inputs)\n",
    "print(df1_inputs)"
   ]
  },
  {
   "cell_type": "markdown",
   "id": "53d02210",
   "metadata": {},
   "source": [
    "Task 1.2 Regression "
   ]
  },
  {
   "cell_type": "code",
   "execution_count": 64,
   "id": "86d35ba4",
   "metadata": {},
   "outputs": [],
   "source": [
    "from sklearn.svm import SVR\n",
    "from sklearn.neural_network import MLPRegressor\n",
    "from sklearn.ensemble import RandomForestRegressor"
   ]
  },
  {
   "cell_type": "markdown",
   "id": "5d03ae63",
   "metadata": {},
   "source": [
    "a) Creation of regression tool for MLPRegressor"
   ]
  },
  {
   "cell_type": "code",
   "execution_count": 65,
   "id": "7d2c4e4b",
   "metadata": {},
   "outputs": [],
   "source": [
    "from sklearn.metrics import mean_absolute_error\n",
    "from sklearn.model_selection import cross_val_score"
   ]
  },
  {
   "cell_type": "code",
   "execution_count": 66,
   "id": "f28e5d43",
   "metadata": {},
   "outputs": [
    {
     "name": "stdout",
     "output_type": "stream",
     "text": [
      "Mean absolute error:  0.07815154417354998\n"
     ]
    }
   ],
   "source": [
    "regressor1 = MLPRegressor(solver='lbfgs', max_iter=4000)\n",
    "regressor1.fit(df1, df1_targets)\n",
    "outputs = regressor1.predict(df1)\n",
    "print(\"Mean absolute error: \", mean_absolute_error(df1_targets, outputs))\n",
    "\n",
    "#calculate MAE\n",
    "REG1_mae = abs(cross_val_score(regressor1, df1_inputs, df1_targets, scoring=\"neg_mean_absolute_error\"))"
   ]
  },
  {
   "cell_type": "markdown",
   "id": "3e677226",
   "metadata": {},
   "source": [
    "b) Creation of regression tool for SVR"
   ]
  },
  {
   "cell_type": "code",
   "execution_count": 84,
   "id": "5f2da795",
   "metadata": {},
   "outputs": [
    {
     "name": "stdout",
     "output_type": "stream",
     "text": [
      "Mean absolute error:  4.718814250011162\n"
     ]
    },
    {
     "name": "stderr",
     "output_type": "stream",
     "text": [
      "c:\\users\\pc03\\appdata\\local\\programs\\python\\python39\\lib\\site-packages\\sklearn\\model_selection\\_validation.py:610: FitFailedWarning: Estimator fit failed. The score on this train-test partition for these parameters will be set to nan. Details: \n",
      "Traceback (most recent call last):\n",
      "  File \"c:\\users\\pc03\\appdata\\local\\programs\\python\\python39\\lib\\site-packages\\sklearn\\model_selection\\_validation.py\", line 593, in _fit_and_score\n",
      "    estimator.fit(X_train, y_train, **fit_params)\n",
      "  File \"c:\\users\\pc03\\appdata\\local\\programs\\python\\python39\\lib\\site-packages\\sklearn\\svm\\_base.py\", line 169, in fit\n",
      "    X, y = self._validate_data(X, y, dtype=np.float64,\n",
      "  File \"c:\\users\\pc03\\appdata\\local\\programs\\python\\python39\\lib\\site-packages\\sklearn\\base.py\", line 433, in _validate_data\n",
      "    X, y = check_X_y(X, y, **check_params)\n",
      "  File \"c:\\users\\pc03\\appdata\\local\\programs\\python\\python39\\lib\\site-packages\\sklearn\\utils\\validation.py\", line 63, in inner_f\n",
      "    return f(*args, **kwargs)\n",
      "  File \"c:\\users\\pc03\\appdata\\local\\programs\\python\\python39\\lib\\site-packages\\sklearn\\utils\\validation.py\", line 814, in check_X_y\n",
      "    X = check_array(X, accept_sparse=accept_sparse,\n",
      "  File \"c:\\users\\pc03\\appdata\\local\\programs\\python\\python39\\lib\\site-packages\\sklearn\\utils\\validation.py\", line 63, in inner_f\n",
      "    return f(*args, **kwargs)\n",
      "  File \"c:\\users\\pc03\\appdata\\local\\programs\\python\\python39\\lib\\site-packages\\sklearn\\utils\\validation.py\", line 637, in check_array\n",
      "    raise ValueError(\n",
      "ValueError: Expected 2D array, got 1D array instead:\n",
      "array=[10.6 15.  13.9  3.9 12.9  0.4  0.3  0.5  1.7  4.9  6.8  3.2  8.   0.6\n",
      "  0.5  2.2  0.9  3.4  0.8  0.5  0.4  3.6  6.  10.9  4.   8.8  2.8  2.1\n",
      "  1.3  7.3 15.3 15.3 11.3 11.9 10.7 15.7  0.9  0.8  0.8  3.9  6.1  6.8\n",
      "  8.   2.6  9.9 11.6 12.1  4.2 10.2 10.6  6.3  4.2 14.6 16.1 17.2 16.8\n",
      " 18.4 20.4 22.3 20.9 20.3 13.7 13.2 19.9 30.2  4.2  0.3  0.1  0.   0.\n",
      "  0.5  1.7  0.9  0.6  0.4  0.2  0.3  0.3  0.5  0.   0.1  0.   0.8  5.9\n",
      "  7.7  9.7  6.3  8.3  2.8  0.7  0.7  0.1  1.7  4.1  0.9  0.1  0.1].\n",
      "Reshape your data either using array.reshape(-1, 1) if your data has a single feature or array.reshape(1, -1) if it contains a single sample.\n",
      "\n",
      "  warnings.warn(\"Estimator fit failed. The score on this train-test\"\n",
      "c:\\users\\pc03\\appdata\\local\\programs\\python\\python39\\lib\\site-packages\\sklearn\\model_selection\\_validation.py:610: FitFailedWarning: Estimator fit failed. The score on this train-test partition for these parameters will be set to nan. Details: \n",
      "Traceback (most recent call last):\n",
      "  File \"c:\\users\\pc03\\appdata\\local\\programs\\python\\python39\\lib\\site-packages\\sklearn\\model_selection\\_validation.py\", line 593, in _fit_and_score\n",
      "    estimator.fit(X_train, y_train, **fit_params)\n",
      "  File \"c:\\users\\pc03\\appdata\\local\\programs\\python\\python39\\lib\\site-packages\\sklearn\\svm\\_base.py\", line 169, in fit\n",
      "    X, y = self._validate_data(X, y, dtype=np.float64,\n",
      "  File \"c:\\users\\pc03\\appdata\\local\\programs\\python\\python39\\lib\\site-packages\\sklearn\\base.py\", line 433, in _validate_data\n",
      "    X, y = check_X_y(X, y, **check_params)\n",
      "  File \"c:\\users\\pc03\\appdata\\local\\programs\\python\\python39\\lib\\site-packages\\sklearn\\utils\\validation.py\", line 63, in inner_f\n",
      "    return f(*args, **kwargs)\n",
      "  File \"c:\\users\\pc03\\appdata\\local\\programs\\python\\python39\\lib\\site-packages\\sklearn\\utils\\validation.py\", line 814, in check_X_y\n",
      "    X = check_array(X, accept_sparse=accept_sparse,\n",
      "  File \"c:\\users\\pc03\\appdata\\local\\programs\\python\\python39\\lib\\site-packages\\sklearn\\utils\\validation.py\", line 63, in inner_f\n",
      "    return f(*args, **kwargs)\n",
      "  File \"c:\\users\\pc03\\appdata\\local\\programs\\python\\python39\\lib\\site-packages\\sklearn\\utils\\validation.py\", line 637, in check_array\n",
      "    raise ValueError(\n",
      "ValueError: Expected 2D array, got 1D array instead:\n",
      "array=[ 0.5  0.4  0.1  0.   0.5  2.5  7.2  7.1  0.3  0.9  5.6  7.1  0.2  0.4\n",
      "  0.1  0.   0.   0.2  1.4  0.4  2.2  2.3  3.8  7.5  8.4  8.8  2.8  2.1\n",
      "  1.3  7.3 15.3 15.3 11.3 11.9 10.7 15.7  0.9  0.8  0.8  3.9  6.1  6.8\n",
      "  8.   2.6  9.9 11.6 12.1  4.2 10.2 10.6  6.3  4.2 14.6 16.1 17.2 16.8\n",
      " 18.4 20.4 22.3 20.9 20.3 13.7 13.2 19.9 30.2  4.2  0.3  0.1  0.   0.\n",
      "  0.5  1.7  0.9  0.6  0.4  0.2  0.3  0.3  0.5  0.   0.1  0.   0.8  5.9\n",
      "  7.7  9.7  6.3  8.3  2.8  0.7  0.7  0.1  1.7  4.1  0.9  0.1  0.1].\n",
      "Reshape your data either using array.reshape(-1, 1) if your data has a single feature or array.reshape(1, -1) if it contains a single sample.\n",
      "\n",
      "  warnings.warn(\"Estimator fit failed. The score on this train-test\"\n",
      "c:\\users\\pc03\\appdata\\local\\programs\\python\\python39\\lib\\site-packages\\sklearn\\model_selection\\_validation.py:610: FitFailedWarning: Estimator fit failed. The score on this train-test partition for these parameters will be set to nan. Details: \n",
      "Traceback (most recent call last):\n",
      "  File \"c:\\users\\pc03\\appdata\\local\\programs\\python\\python39\\lib\\site-packages\\sklearn\\model_selection\\_validation.py\", line 593, in _fit_and_score\n",
      "    estimator.fit(X_train, y_train, **fit_params)\n",
      "  File \"c:\\users\\pc03\\appdata\\local\\programs\\python\\python39\\lib\\site-packages\\sklearn\\svm\\_base.py\", line 169, in fit\n",
      "    X, y = self._validate_data(X, y, dtype=np.float64,\n",
      "  File \"c:\\users\\pc03\\appdata\\local\\programs\\python\\python39\\lib\\site-packages\\sklearn\\base.py\", line 433, in _validate_data\n",
      "    X, y = check_X_y(X, y, **check_params)\n",
      "  File \"c:\\users\\pc03\\appdata\\local\\programs\\python\\python39\\lib\\site-packages\\sklearn\\utils\\validation.py\", line 63, in inner_f\n",
      "    return f(*args, **kwargs)\n",
      "  File \"c:\\users\\pc03\\appdata\\local\\programs\\python\\python39\\lib\\site-packages\\sklearn\\utils\\validation.py\", line 814, in check_X_y\n",
      "    X = check_array(X, accept_sparse=accept_sparse,\n",
      "  File \"c:\\users\\pc03\\appdata\\local\\programs\\python\\python39\\lib\\site-packages\\sklearn\\utils\\validation.py\", line 63, in inner_f\n",
      "    return f(*args, **kwargs)\n",
      "  File \"c:\\users\\pc03\\appdata\\local\\programs\\python\\python39\\lib\\site-packages\\sklearn\\utils\\validation.py\", line 637, in check_array\n",
      "    raise ValueError(\n",
      "ValueError: Expected 2D array, got 1D array instead:\n",
      "array=[ 0.5  0.4  0.1  0.   0.5  2.5  7.2  7.1  0.3  0.9  5.6  7.1  0.2  0.4\n",
      "  0.1  0.   0.   0.2  1.4  0.4  2.2  2.3  3.8  7.5  8.4 10.6 15.  13.9\n",
      "  3.9 12.9  0.4  0.3  0.5  1.7  4.9  6.8  3.2  8.   0.6  0.5  2.2  0.9\n",
      "  3.4  0.8  0.5  0.4  3.6  6.  10.9  4.  10.6  6.3  4.2 14.6 16.1 17.2\n",
      " 16.8 18.4 20.4 22.3 20.9 20.3 13.7 13.2 19.9 30.2  4.2  0.3  0.1  0.\n",
      "  0.   0.5  1.7  0.9  0.6  0.4  0.2  0.3  0.3  0.5  0.   0.1  0.   0.8\n",
      "  5.9  7.7  9.7  6.3  8.3  2.8  0.7  0.7  0.1  1.7  4.1  0.9  0.1  0.1].\n",
      "Reshape your data either using array.reshape(-1, 1) if your data has a single feature or array.reshape(1, -1) if it contains a single sample.\n",
      "\n",
      "  warnings.warn(\"Estimator fit failed. The score on this train-test\"\n",
      "c:\\users\\pc03\\appdata\\local\\programs\\python\\python39\\lib\\site-packages\\sklearn\\model_selection\\_validation.py:610: FitFailedWarning: Estimator fit failed. The score on this train-test partition for these parameters will be set to nan. Details: \n",
      "Traceback (most recent call last):\n",
      "  File \"c:\\users\\pc03\\appdata\\local\\programs\\python\\python39\\lib\\site-packages\\sklearn\\model_selection\\_validation.py\", line 593, in _fit_and_score\n",
      "    estimator.fit(X_train, y_train, **fit_params)\n",
      "  File \"c:\\users\\pc03\\appdata\\local\\programs\\python\\python39\\lib\\site-packages\\sklearn\\svm\\_base.py\", line 169, in fit\n",
      "    X, y = self._validate_data(X, y, dtype=np.float64,\n",
      "  File \"c:\\users\\pc03\\appdata\\local\\programs\\python\\python39\\lib\\site-packages\\sklearn\\base.py\", line 433, in _validate_data\n",
      "    X, y = check_X_y(X, y, **check_params)\n",
      "  File \"c:\\users\\pc03\\appdata\\local\\programs\\python\\python39\\lib\\site-packages\\sklearn\\utils\\validation.py\", line 63, in inner_f\n",
      "    return f(*args, **kwargs)\n",
      "  File \"c:\\users\\pc03\\appdata\\local\\programs\\python\\python39\\lib\\site-packages\\sklearn\\utils\\validation.py\", line 814, in check_X_y\n",
      "    X = check_array(X, accept_sparse=accept_sparse,\n",
      "  File \"c:\\users\\pc03\\appdata\\local\\programs\\python\\python39\\lib\\site-packages\\sklearn\\utils\\validation.py\", line 63, in inner_f\n",
      "    return f(*args, **kwargs)\n",
      "  File \"c:\\users\\pc03\\appdata\\local\\programs\\python\\python39\\lib\\site-packages\\sklearn\\utils\\validation.py\", line 637, in check_array\n",
      "    raise ValueError(\n",
      "ValueError: Expected 2D array, got 1D array instead:\n",
      "array=[ 0.5  0.4  0.1  0.   0.5  2.5  7.2  7.1  0.3  0.9  5.6  7.1  0.2  0.4\n",
      "  0.1  0.   0.   0.2  1.4  0.4  2.2  2.3  3.8  7.5  8.4 10.6 15.  13.9\n",
      "  3.9 12.9  0.4  0.3  0.5  1.7  4.9  6.8  3.2  8.   0.6  0.5  2.2  0.9\n",
      "  3.4  0.8  0.5  0.4  3.6  6.  10.9  4.   8.8  2.8  2.1  1.3  7.3 15.3\n",
      " 15.3 11.3 11.9 10.7 15.7  0.9  0.8  0.8  3.9  6.1  6.8  8.   2.6  9.9\n",
      " 11.6 12.1  4.2 10.2  0.6  0.4  0.2  0.3  0.3  0.5  0.   0.1  0.   0.8\n",
      "  5.9  7.7  9.7  6.3  8.3  2.8  0.7  0.7  0.1  1.7  4.1  0.9  0.1  0.1].\n",
      "Reshape your data either using array.reshape(-1, 1) if your data has a single feature or array.reshape(1, -1) if it contains a single sample.\n",
      "\n",
      "  warnings.warn(\"Estimator fit failed. The score on this train-test\"\n",
      "c:\\users\\pc03\\appdata\\local\\programs\\python\\python39\\lib\\site-packages\\sklearn\\model_selection\\_validation.py:610: FitFailedWarning: Estimator fit failed. The score on this train-test partition for these parameters will be set to nan. Details: \n",
      "Traceback (most recent call last):\n",
      "  File \"c:\\users\\pc03\\appdata\\local\\programs\\python\\python39\\lib\\site-packages\\sklearn\\model_selection\\_validation.py\", line 593, in _fit_and_score\n",
      "    estimator.fit(X_train, y_train, **fit_params)\n",
      "  File \"c:\\users\\pc03\\appdata\\local\\programs\\python\\python39\\lib\\site-packages\\sklearn\\svm\\_base.py\", line 169, in fit\n",
      "    X, y = self._validate_data(X, y, dtype=np.float64,\n",
      "  File \"c:\\users\\pc03\\appdata\\local\\programs\\python\\python39\\lib\\site-packages\\sklearn\\base.py\", line 433, in _validate_data\n",
      "    X, y = check_X_y(X, y, **check_params)\n",
      "  File \"c:\\users\\pc03\\appdata\\local\\programs\\python\\python39\\lib\\site-packages\\sklearn\\utils\\validation.py\", line 63, in inner_f\n",
      "    return f(*args, **kwargs)\n",
      "  File \"c:\\users\\pc03\\appdata\\local\\programs\\python\\python39\\lib\\site-packages\\sklearn\\utils\\validation.py\", line 814, in check_X_y\n",
      "    X = check_array(X, accept_sparse=accept_sparse,\n",
      "  File \"c:\\users\\pc03\\appdata\\local\\programs\\python\\python39\\lib\\site-packages\\sklearn\\utils\\validation.py\", line 63, in inner_f\n",
      "    return f(*args, **kwargs)\n",
      "  File \"c:\\users\\pc03\\appdata\\local\\programs\\python\\python39\\lib\\site-packages\\sklearn\\utils\\validation.py\", line 637, in check_array\n",
      "    raise ValueError(\n",
      "ValueError: Expected 2D array, got 1D array instead:\n",
      "array=[ 0.5  0.4  0.1  0.   0.5  2.5  7.2  7.1  0.3  0.9  5.6  7.1  0.2  0.4\n",
      "  0.1  0.   0.   0.2  1.4  0.4  2.2  2.3  3.8  7.5  8.4 10.6 15.  13.9\n",
      "  3.9 12.9  0.4  0.3  0.5  1.7  4.9  6.8  3.2  8.   0.6  0.5  2.2  0.9\n",
      "  3.4  0.8  0.5  0.4  3.6  6.  10.9  4.   8.8  2.8  2.1  1.3  7.3 15.3\n",
      " 15.3 11.3 11.9 10.7 15.7  0.9  0.8  0.8  3.9  6.1  6.8  8.   2.6  9.9\n",
      " 11.6 12.1  4.2 10.2 10.6  6.3  4.2 14.6 16.1 17.2 16.8 18.4 20.4 22.3\n",
      " 20.9 20.3 13.7 13.2 19.9 30.2  4.2  0.3  0.1  0.   0.   0.5  1.7  0.9].\n",
      "Reshape your data either using array.reshape(-1, 1) if your data has a single feature or array.reshape(1, -1) if it contains a single sample.\n",
      "\n",
      "  warnings.warn(\"Estimator fit failed. The score on this train-test\"\n"
     ]
    }
   ],
   "source": [
    "SVRregressor = SVR()\n",
    "SVRregressor.fit(df1_inputs, df1_targets)\n",
    "outputs = SVRregressor.predict(df1_inputs)\n",
    "\n",
    "print(\"Mean absolute error: \", mean_absolute_error(df1_targets, outputs))\n",
    "\n",
    "#calculate MAE\n",
    "RFreg_mae = abs(cross_val_score(SVRregressor, df1_targets, df1_targets, scoring=\"neg_mean_absolute_error\"))"
   ]
  },
  {
   "cell_type": "markdown",
   "id": "d2572b4c",
   "metadata": {},
   "source": [
    "c) Creation of regressor tool for RandomForestRegressor"
   ]
  },
  {
   "cell_type": "code",
   "execution_count": 81,
   "id": "fc52150a",
   "metadata": {},
   "outputs": [
    {
     "name": "stdout",
     "output_type": "stream",
     "text": [
      "Mean absolute error:  0.2598770491803269\n"
     ]
    }
   ],
   "source": [
    "RandFor_Regressor = RandomForestRegressor()\n",
    "RandFor_Regressor.fit(df1_inputs, df1_targets)\n",
    "outputs =  RandFor_Regressor.predict(df1_inputs)\n",
    "\n",
    "print(\"Mean absolute error: \", mean_absolute_error(df1_targets, outputs))\n",
    "\n",
    "#calculate MAE\n",
    "RandREG_mae = abs(cross_val_score(RandFor_Regressor, df1_inputs, df1_targets, scoring=\"neg_mean_absolute_error\"))"
   ]
  },
  {
   "cell_type": "markdown",
   "id": "c211b0d7",
   "metadata": {},
   "source": [
    "Task 1.3 Assessment of regression"
   ]
  },
  {
   "cell_type": "code",
   "execution_count": 86,
   "id": "cd882bf6",
   "metadata": {},
   "outputs": [
    {
     "data": {
      "image/png": "[encoded data removed]",
      "text/plain": [
       "<Figure size 432x288 with 1 Axes>"
      ]
     },
     "metadata": {
      "needs_background": "light"
     },
     "output_type": "display_data"
    }
   ],
   "source": [
    "# store mae results into a python array \n",
    "import matplotlib.pyplot as plt\n",
    "\n",
    "maeArray = [REG1_mae, RFreg_mae, RandREG_mae]\n",
    "\n",
    "REG1 = np.random.rand(100)\n",
    "REG2 = np.random.randn(100)\n",
    "REG3 = np.random.rand(100)\n",
    "\n",
    "plt.figure()\n",
    "plt.boxplot([REG1_mae, RFreg_mae, RandREG_mae])\n",
    "plt.xticks([1,2,3], [\"REG1\", \"REG2\", \"REG3\"]);\n",
    "plt.ylabel(\"$p(x)$\")\n",
    "plt.savefig(\"boxplot.png\", bbox_inches=\"tight\")\n",
    "plt.show()"
   ]
  },
  {
   "cell_type": "code",
   "execution_count": null,
   "id": "ba6e06db",
   "metadata": {},
   "outputs": [],
   "source": []
  },
  {
   "cell_type": "code",
   "execution_count": null,
   "id": "43f6701b",
   "metadata": {},
   "outputs": [],
   "source": []
  },
  {
   "cell_type": "markdown",
   "id": "f185c517",
   "metadata": {},
   "source": [
    "# PART 2 – EVOLUTIONARY COMPUTATION"
   ]
  }
 ],
 "metadata": {
  "kernelspec": {
   "display_name": "Python 3",
   "language": "python",
   "name": "python3"
  },
  "language_info": {
   "codemirror_mode": {
    "name": "ipython",
    "version": 3
   },
   "file_extension": ".py",
   "mimetype": "text/x-python",
   "name": "python",
   "nbconvert_exporter": "python",
   "pygments_lexer": "ipython3",
   "version": "3.9.5"
  }
 },
 "nbformat": 4,
 "nbformat_minor": 5
}
