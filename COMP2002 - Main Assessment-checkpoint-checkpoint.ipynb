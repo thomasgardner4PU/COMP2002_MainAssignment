{
 "cells": [
  {
   "cell_type": "markdown",
   "id": "3d3757ba",
   "metadata": {},
   "source": [
    "# Part 1 - Machine Learning"
   ]
  },
  {
   "cell_type": "markdown",
   "id": "deeac3dd",
   "metadata": {},
   "source": [
    "Task 1.1 Data preperation"
   ]
  },
  {
   "cell_type": "code",
   "execution_count": 2,
   "id": "f5c33ac3",
   "metadata": {},
   "outputs": [
    {
     "name": "stdout",
     "output_type": "stream",
     "text": [
      "     day  month  year  Temperature   RH   Ws  Rain   FFMC  DMC    DC  ISI  \\\n",
      "0      1      6  2012           29   57   18    0.0  65.7  3.4   7.6  1.3   \n",
      "1      2      6  2012           29   61   13    1.3  64.4  4.1   7.6  1.0   \n",
      "2      3      6  2012           26   82   22   13.1  47.1  2.5   7.1  0.3   \n",
      "3      4      6  2012           25   89   13    2.5  28.6  1.3   6.9  0.0   \n",
      "4      5      6  2012           27   77   16    0.0  64.8  3.0  14.2  1.2   \n",
      "..   ...    ...   ...          ...  ...  ...    ...   ...  ...   ...  ...   \n",
      "117   26      9  2012           31   54   11    0.0  82.0  6.0  16.3  2.5   \n",
      "118   27      9  2012           31   66   11    0.0  85.7  8.3  24.9  4.0   \n",
      "119   28      9  2012           32   47   14    0.7  77.5  7.1   8.8  1.8   \n",
      "120   29      9  2012           26   80   16    1.8  47.4  2.9   7.7  0.3   \n",
      "121   30      9  2012           25   78   14    1.4  45.0  1.9   7.5  0.2   \n",
      "\n",
      "     BUI  FWI  \n",
      "0    3.4  0.5  \n",
      "1    3.9  0.4  \n",
      "2    2.7  0.1  \n",
      "3    1.7  0.0  \n",
      "4    3.9  0.5  \n",
      "..   ...  ...  \n",
      "117  6.2  1.7  \n",
      "118  9.0  4.1  \n",
      "119  6.8  0.9  \n",
      "120  3.0  0.1  \n",
      "121  2.4  0.1  \n",
      "\n",
      "[122 rows x 13 columns]\n"
     ]
    }
   ],
   "source": [
    "import pandas as pd\n",
    "import numpy as np\n",
    "\n",
    "df1 = pd.read_csv(r'C:\\Users\\PC03\\Documents\\GitHub\\COMP2002_MainAssignment\\AlgerianFF_Region1.csv')\n",
    "print (df1)"
   ]
  },
  {
   "cell_type": "markdown",
   "id": "5cf8d090",
   "metadata": {},
   "source": [
    "Splitting data for dataset into inputs & targets for Dataset 1"
   ]
  },
  {
   "cell_type": "code",
   "execution_count": 3,
   "id": "b13f3752",
   "metadata": {},
   "outputs": [
    {
     "name": "stdout",
     "output_type": "stream",
     "text": [
      "[[1.000e+00 6.000e+00 2.012e+03 ... 7.600e+00 1.300e+00 3.400e+00]\n",
      " [2.000e+00 6.000e+00 2.012e+03 ... 7.600e+00 1.000e+00 3.900e+00]\n",
      " [3.000e+00 6.000e+00 2.012e+03 ... 7.100e+00 3.000e-01 2.700e+00]\n",
      " ...\n",
      " [2.800e+01 9.000e+00 2.012e+03 ... 8.800e+00 1.800e+00 6.800e+00]\n",
      " [2.900e+01 9.000e+00 2.012e+03 ... 7.700e+00 3.000e-01 3.000e+00]\n",
      " [3.000e+01 9.000e+00 2.012e+03 ... 7.500e+00 2.000e-01 2.400e+00]] [ 0.5  0.4  0.1  0.   0.5  2.5  7.2  7.1  0.3  0.9  5.6  7.1  0.2  0.4\n",
      "  0.1  0.   0.   0.2  1.4  0.4  2.2  2.3  3.8  7.5  8.4 10.6 15.  13.9\n",
      "  3.9 12.9  0.4  0.3  0.5  1.7  4.9  6.8  3.2  8.   0.6  0.5  2.2  0.9\n",
      "  3.4  0.8  0.5  0.4  3.6  6.  10.9  4.   8.8  2.8  2.1  1.3  7.3 15.3\n",
      " 15.3 11.3 11.9 10.7 15.7  0.9  0.8  0.8  3.9  6.1  6.8  8.   2.6  9.9\n",
      " 11.6 12.1  4.2 10.2 10.6  6.3  4.2 14.6 16.1 17.2 16.8 18.4 20.4 22.3\n",
      " 20.9 20.3 13.7 13.2 19.9 30.2  4.2  0.3  0.1  0.   0.   0.5  1.7  0.9\n",
      "  0.6  0.4  0.2  0.3  0.3  0.5  0.   0.1  0.   0.8  5.9  7.7  9.7  6.3\n",
      "  8.3  2.8  0.7  0.7  0.1  1.7  4.1  0.9  0.1  0.1]\n"
     ]
    }
   ],
   "source": [
    "df1_inputs = df1.values[:,:-1].astype(float)\n",
    "df1_targets = df1.values[:,-1].astype(float)\n",
    "print(df1_inputs, df1_targets)"
   ]
  },
  {
   "cell_type": "code",
   "execution_count": 4,
   "id": "88a8c5ee",
   "metadata": {},
   "outputs": [
    {
     "name": "stdout",
     "output_type": "stream",
     "text": [
      "     day  month  year  Temperature   RH   Ws  Rain   FFMC   DMC    DC  ISI  \\\n",
      "0      1      6  2012           32   71   12    0.7  57.1   2.5   8.2  0.6   \n",
      "1      2      6  2012           30   73   13    4.0  55.7   2.7   7.8  0.6   \n",
      "2      3      6  2012           29   80   14    2.0  48.7   2.2   7.6  0.3   \n",
      "3      4      6  2012           30   64   14    0.0  79.4   5.2  15.4  2.2   \n",
      "4      5      6  2012           32   60   14    0.2  77.1   6.0  17.6  1.8   \n",
      "..   ...    ...   ...          ...  ...  ...    ...   ...   ...   ...  ...   \n",
      "117   26      9  2012           30   65   14    0.0  85.4  16.0  44.5  4.5   \n",
      "118   27      9  2012           28   87   15    4.4  41.1   6.5   8.0  0.1   \n",
      "119   28      9  2012           27   87   29    0.5  45.9   3.5   7.9  0.4   \n",
      "120   29      9  2012           24   54   18    0.1  79.7   4.3  15.2  1.7   \n",
      "121   30      9  2012           24   64   15    0.2  67.3   3.8  16.5  1.2   \n",
      "\n",
      "      BUI  FWI  \n",
      "0     2.8  0.2  \n",
      "1     2.9  0.2  \n",
      "2     2.6  0.1  \n",
      "3     5.6  1.0  \n",
      "4     6.5  0.9  \n",
      "..    ...  ...  \n",
      "117  16.9  6.5  \n",
      "118   6.2  0.0  \n",
      "119   3.4  0.2  \n",
      "120   5.1  0.7  \n",
      "121   4.8  0.5  \n",
      "\n",
      "[122 rows x 13 columns]\n"
     ]
    }
   ],
   "source": [
    "import pandas as pd\n",
    "df2 = pd.read_csv (r'C:\\Users\\PC03\\Documents\\GitHub\\COMP2002_MainAssignment\\AlgerianFF_Region2.csv')\n",
    "print (df2)"
   ]
  },
  {
   "cell_type": "markdown",
   "id": "f73b12a2",
   "metadata": {},
   "source": [
    "Splitting data for dataset into inputs & targets for Dataset 2"
   ]
  },
  {
   "cell_type": "code",
   "execution_count": 5,
   "id": "b0a58b68",
   "metadata": {},
   "outputs": [
    {
     "name": "stdout",
     "output_type": "stream",
     "text": [
      "[[1.000e+00 6.000e+00 2.012e+03 ... 7.600e+00 1.300e+00 3.400e+00]\n",
      " [2.000e+00 6.000e+00 2.012e+03 ... 7.600e+00 1.000e+00 3.900e+00]\n",
      " [3.000e+00 6.000e+00 2.012e+03 ... 7.100e+00 3.000e-01 2.700e+00]\n",
      " ...\n",
      " [2.800e+01 9.000e+00 2.012e+03 ... 8.800e+00 1.800e+00 6.800e+00]\n",
      " [2.900e+01 9.000e+00 2.012e+03 ... 7.700e+00 3.000e-01 3.000e+00]\n",
      " [3.000e+01 9.000e+00 2.012e+03 ... 7.500e+00 2.000e-01 2.400e+00]] [ 0.5  0.4  0.1  0.   0.5  2.5  7.2  7.1  0.3  0.9  5.6  7.1  0.2  0.4\n",
      "  0.1  0.   0.   0.2  1.4  0.4  2.2  2.3  3.8  7.5  8.4 10.6 15.  13.9\n",
      "  3.9 12.9  0.4  0.3  0.5  1.7  4.9  6.8  3.2  8.   0.6  0.5  2.2  0.9\n",
      "  3.4  0.8  0.5  0.4  3.6  6.  10.9  4.   8.8  2.8  2.1  1.3  7.3 15.3\n",
      " 15.3 11.3 11.9 10.7 15.7  0.9  0.8  0.8  3.9  6.1  6.8  8.   2.6  9.9\n",
      " 11.6 12.1  4.2 10.2 10.6  6.3  4.2 14.6 16.1 17.2 16.8 18.4 20.4 22.3\n",
      " 20.9 20.3 13.7 13.2 19.9 30.2  4.2  0.3  0.1  0.   0.   0.5  1.7  0.9\n",
      "  0.6  0.4  0.2  0.3  0.3  0.5  0.   0.1  0.   0.8  5.9  7.7  9.7  6.3\n",
      "  8.3  2.8  0.7  0.7  0.1  1.7  4.1  0.9  0.1  0.1]\n"
     ]
    }
   ],
   "source": [
    "df2_inputs = df2.values[:,:-1].astype(float)\n",
    "df2_targets = df2.values[:,-1].astype(float)\n",
    "print(df1_inputs, df1_targets)"
   ]
  },
  {
   "cell_type": "code",
   "execution_count": 69,
   "id": "c9c2c6dd",
   "metadata": {},
   "outputs": [],
   "source": [
    "from sklearn.model_selection import train_test_split\n",
    "\n",
    "#preparing the dataset data for training\n",
    "X_train, X_test, y_train, y_test = train_test_split(df1_inputs, df1_targets)"
   ]
  },
  {
   "cell_type": "code",
   "execution_count": null,
   "id": "3180cd85",
   "metadata": {},
   "outputs": [],
   "source": []
  },
  {
   "cell_type": "markdown",
   "id": "73da125f",
   "metadata": {},
   "source": [
    "Noramlization"
   ]
  },
  {
   "cell_type": "code",
   "execution_count": 6,
   "id": "4b9a283e",
   "metadata": {
    "scrolled": true
   },
   "outputs": [
    {
     "name": "stdout",
     "output_type": "stream",
     "text": [
      "[[4.96475491e-04 2.97885295e-03 9.98908688e-01 ... 3.77321373e-03\n",
      "  6.45418138e-04 1.68801667e-03]\n",
      " [9.92931309e-04 2.97879393e-03 9.98888896e-01 ... 3.77313897e-03\n",
      "  4.96465654e-04 1.93621605e-03]\n",
      " [1.48914515e-03 2.97829030e-03 9.98720015e-01 ... 3.52431019e-03\n",
      "  1.48914515e-04 1.34023064e-03]\n",
      " ...\n",
      " [1.38985254e-02 4.46738316e-03 9.98708325e-01 ... 4.36810798e-03\n",
      "  8.93476633e-04 3.37535617e-03]\n",
      " [1.43947191e-02 4.46732663e-03 9.98695687e-01 ... 3.82204612e-03\n",
      "  1.48910888e-04 1.48910888e-03]\n",
      " [1.48921935e-02 4.46765806e-03 9.98769781e-01 ... 3.72304839e-03\n",
      "  9.92812903e-05 1.19137548e-03]]\n"
     ]
    }
   ],
   "source": [
    "from sklearn import preprocessing\n",
    "\n",
    "df1_inputs = preprocessing.normalize(df1_inputs)\n",
    "print(df1_inputs)"
   ]
  },
  {
   "cell_type": "code",
   "execution_count": 7,
   "id": "e72b3981",
   "metadata": {},
   "outputs": [
    {
     "name": "stdout",
     "output_type": "stream",
     "text": [
      "[[4.96475491e-04 2.97885295e-03 9.98908688e-01 ... 3.77321373e-03\n",
      "  6.45418138e-04 1.68801667e-03]\n",
      " [9.92931309e-04 2.97879393e-03 9.98888896e-01 ... 3.77313897e-03\n",
      "  4.96465654e-04 1.93621605e-03]\n",
      " [1.48914515e-03 2.97829030e-03 9.98720015e-01 ... 3.52431019e-03\n",
      "  1.48914515e-04 1.34023064e-03]\n",
      " ...\n",
      " [1.38985254e-02 4.46738316e-03 9.98708325e-01 ... 4.36810798e-03\n",
      "  8.93476633e-04 3.37535617e-03]\n",
      " [1.43947191e-02 4.46732663e-03 9.98695687e-01 ... 3.82204612e-03\n",
      "  1.48910888e-04 1.48910888e-03]\n",
      " [1.48921935e-02 4.46765806e-03 9.98769781e-01 ... 3.72304839e-03\n",
      "  9.92812903e-05 1.19137548e-03]]\n"
     ]
    }
   ],
   "source": [
    "df2_inputs = preprocessing.normalize(df2_inputs)\n",
    "print(df1_inputs)"
   ]
  },
  {
   "cell_type": "markdown",
   "id": "53d02210",
   "metadata": {},
   "source": [
    "Task 1.2 Regression "
   ]
  },
  {
   "cell_type": "code",
   "execution_count": 8,
   "id": "86d35ba4",
   "metadata": {},
   "outputs": [],
   "source": [
    "from sklearn.svm import SVR\n",
    "from sklearn.neural_network import MLPRegressor\n",
    "from sklearn.ensemble import RandomForestRegressor"
   ]
  },
  {
   "cell_type": "markdown",
   "id": "5d03ae63",
   "metadata": {},
   "source": [
    "a) Creation of regression tool for MLPRegressor"
   ]
  },
  {
   "cell_type": "code",
   "execution_count": 9,
   "id": "7d2c4e4b",
   "metadata": {},
   "outputs": [],
   "source": [
    "from sklearn.metrics import mean_absolute_error\n",
    "from sklearn.model_selection import cross_val_score"
   ]
  },
  {
   "cell_type": "code",
   "execution_count": 10,
   "id": "7e2d4886",
   "metadata": {},
   "outputs": [
    {
     "name": "stdout",
     "output_type": "stream",
     "text": [
      "Mean absolute error:  0.0707007090466368\n"
     ]
    }
   ],
   "source": [
    "regressor1 = MLPRegressor(solver='lbfgs', max_iter=4000)\n",
    "regressor1.fit(df1, df1_targets)\n",
    "outputs = regressor1.predict(df1)\n",
    "print(\"Mean absolute error: \", mean_absolute_error(df1_targets, outputs))\n",
    "\n",
    "#calculate MAE\n",
    "REG1_mae = abs(cross_val_score(regressor1, df1_inputs, df1_targets, scoring=\"neg_mean_absolute_error\"))"
   ]
  },
  {
   "cell_type": "markdown",
   "id": "3e677226",
   "metadata": {},
   "source": [
    "b) Creation of regression tool for SVR"
   ]
  },
  {
   "cell_type": "code",
   "execution_count": 71,
   "id": "5f2da795",
   "metadata": {},
   "outputs": [
    {
     "name": "stdout",
     "output_type": "stream",
     "text": [
      "Mean absolute error:  4.718814250011162\n"
     ]
    }
   ],
   "source": [
    "SVRregressor = SVR()\n",
    "SVRregressor.fit(df1_inputs, df1_targets)\n",
    "SVRoutputs = SVRregressor.predict(df1_inputs)\n",
    "\n",
    "print(\"Mean absolute error: \", mean_absolute_error(df1_targets, SVRoutputs))\n",
    "\n",
    "#calculate MAE\n",
    "RFreg_mae = abs(cross_val_score(SVRregressor, df1_inputs, df1_targets, scoring=\"neg_mean_absolute_error\")) "
   ]
  },
  {
   "cell_type": "markdown",
   "id": "d2572b4c",
   "metadata": {},
   "source": [
    "c) Creation of regressor tool for RandomForestRegressor"
   ]
  },
  {
   "cell_type": "code",
   "execution_count": 12,
   "id": "fc52150a",
   "metadata": {},
   "outputs": [
    {
     "name": "stdout",
     "output_type": "stream",
     "text": [
      "Mean absolute error:  0.2549098360655727\n"
     ]
    }
   ],
   "source": [
    "RandFor_Regressor = RandomForestRegressor()\n",
    "RandFor_Regressor.fit(df1_inputs, df1_targets)\n",
    "outputs =  RandFor_Regressor.predict(df1_inputs)\n",
    "\n",
    "print(\"Mean absolute error: \", mean_absolute_error(df1_targets, outputs))\n",
    "\n",
    "#calculate MAE\n",
    "RandREG_mae = abs(cross_val_score(RandFor_Regressor, df1_inputs, df1_targets, scoring=\"neg_mean_absolute_error\"))"
   ]
  },
  {
   "cell_type": "markdown",
   "id": "c211b0d7",
   "metadata": {},
   "source": [
    "Task 1.3 Assessment of regression"
   ]
  },
  {
   "cell_type": "code",
   "execution_count": 13,
   "id": "cd882bf6",
   "metadata": {},
   "outputs": [
    {
     "data": {
      "image/png": "[encoded data removed]",
      "text/plain": [
       "<Figure size 432x288 with 1 Axes>"
      ]
     },
     "metadata": {
      "needs_background": "light"
     },
     "output_type": "display_data"
    }
   ],
   "source": [
    "# store mae results into a python array \n",
    "import matplotlib.pyplot as plt\n",
    "\n",
    "maeArray = [REG1_mae, RFreg_mae, RandREG_mae]\n",
    "\n",
    "REG1 = np.random.rand(100)\n",
    "REG2 = np.random.randn(100)\n",
    "REG3 = np.random.rand(100)\n",
    "\n",
    "plt.figure()\n",
    "plt.boxplot([REG1_mae, RFreg_mae, RandREG_mae])\n",
    "plt.xticks([1,2,3], [\"MLPRegressor\", \"SVRRegressor\", \"RandomForestRegressor\"]);\n",
    "plt.ylabel(\"$p(x)$\")\n",
    "plt.savefig(\"boxplot.png\", bbox_inches=\"tight\")\n",
    "plt.show()"
   ]
  },
  {
   "cell_type": "markdown",
   "id": "f185c517",
   "metadata": {},
   "source": [
    "# PART 2 – EVOLUTIONARY COMPUTATION"
   ]
  },
  {
   "cell_type": "markdown",
   "id": "183198bb",
   "metadata": {},
   "source": [
    "Task 2.1 –Generation of random solutions"
   ]
  },
  {
   "cell_type": "code",
   "execution_count": 16,
   "id": "ba6e06db",
   "metadata": {},
   "outputs": [
    {
     "name": "stdout",
     "output_type": "stream",
     "text": [
      "       0      1      2      3      4    5    6      7    8      9      10  \\\n",
      "0     0.0   41.2  180.0  392.0  394.0  547  525  151.0  152   53.0  134.0   \n",
      "1    41.2    0.0  157.0  428.0  430.0  583  560  187.0  187   92.1  169.0   \n",
      "2   180.0  157.0    0.0  295.0  297.0  451  428  266.0  347  233.0  291.0   \n",
      "3   392.0  428.0  295.0    0.0   46.5  168  145  414.0  485  372.0  429.0   \n",
      "4   394.0  430.0  297.0   46.5    0.0  156  127  403.0  487  373.0  431.0   \n",
      "5   547.0  583.0  451.0  168.0  156.0    0  104  561.0  641  528.0  585.0   \n",
      "6   525.0  560.0  428.0  145.0  127.0  104    0  539.0  620  506.0  563.0   \n",
      "7   151.0  187.0  266.0  414.0  403.0  561  539    0.0  215  118.0   80.1   \n",
      "8   152.0  187.0  347.0  485.0  487.0  641  620  215.0    0  121.0  152.0   \n",
      "9    53.0   92.1  233.0  372.0  373.0  528  506  118.0  121    0.0  101.0   \n",
      "10  134.0  169.0  291.0  429.0  431.0  585  563   80.1  152  101.0    0.0   \n",
      "11  266.0  302.0  307.0  376.0  373.0  533  510  118.0  359  246.0  202.0   \n",
      "12  124.0  160.0  152.0  290.0  292.0  447  425  126.0  211   97.5  141.0   \n",
      "13  188.0  224.0   96.3  216.0  217.0  373  351  208.0  281  168.0  224.0   \n",
      "14  200.0  165.0   70.0  221.0  222.0  378  355  221.0  293  180.0  236.0   \n",
      "15  202.0  242.0  247.0  357.0  354.0  514  491   64.0  299  186.0  131.0   \n",
      "16  191.0  227.0  325.0  463.0  465.0  619  597   53.5  217  159.0   65.4   \n",
      "17  118.0  154.0  210.0  364.0  366.0  521  499   56.1  205   85.2   65.9   \n",
      "18  323.0  358.0  240.0  152.0  120.0  282  254  290.0  416  302.0  329.0   \n",
      "19  227.0  263.0  139.0  221.0  218.0  378  356  195.0  321  207.0  234.0   \n",
      "\n",
      "       11     12     13     14     15     16     17     18     19  \n",
      "0   266.0  124.0  188.0  200.0  202.0  191.0  118.0  323.0  227.0  \n",
      "1   302.0  160.0  224.0  165.0  242.0  227.0  154.0  358.0  263.0  \n",
      "2   307.0  152.0   96.3   70.0  247.0  325.0  210.0  240.0  139.0  \n",
      "3   376.0  290.0  216.0  221.0  357.0  463.0  364.0  152.0  221.0  \n",
      "4   373.0  292.0  217.0  222.0  354.0  465.0  366.0  120.0  218.0  \n",
      "5   533.0  447.0  373.0  378.0  514.0  619.0  521.0  282.0  378.0  \n",
      "6   510.0  425.0  351.0  355.0  491.0  597.0  499.0  254.0  356.0  \n",
      "7   118.0  126.0  208.0  221.0   64.0   53.5   56.1  290.0  195.0  \n",
      "8   359.0  211.0  281.0  293.0  299.0  217.0  205.0  416.0  321.0  \n",
      "9   246.0   97.5  168.0  180.0  186.0  159.0   85.2  302.0  207.0  \n",
      "10  202.0  141.0  224.0  236.0  131.0   65.4   65.9  329.0  234.0  \n",
      "11    0.0  160.0  208.0  253.0   63.9  174.0  147.0  253.0  171.0  \n",
      "12  160.0    0.0   86.2   98.4   99.6  177.0   78.5  213.0  118.0  \n",
      "13  208.0   86.2    0.0   35.4  182.0  259.0  161.0  146.0   44.6  \n",
      "14  253.0   98.4   35.4    0.0  194.0  272.0  173.0  174.0   73.0  \n",
      "15   63.9   99.6  182.0  194.0    0.0  122.0   84.0  232.0  150.0  \n",
      "16  174.0  177.0  259.0  272.0  122.0    0.0  106.0  352.0  257.0  \n",
      "17  147.0   78.5  161.0  173.0   84.0  106.0    0.0  258.0  170.0  \n",
      "18  253.0  213.0  146.0  174.0  232.0  352.0  258.0    0.0   98.2  \n",
      "19  171.0  118.0   44.6   73.0  150.0  257.0  170.0   98.2    0.0  \n"
     ]
    }
   ],
   "source": [
    "cities = pd.read_csv(r'C:\\Users\\PC03\\Documents\\GitHub\\COMP2002_MainAssignment\\distances.csv', header=None)\n",
    "print (cities)"
   ]
  },
  {
   "cell_type": "code",
   "execution_count": 53,
   "id": "a897e6a3",
   "metadata": {},
   "outputs": [
    {
     "name": "stdout",
     "output_type": "stream",
     "text": [
      "           0\n",
      "0   Plymouth\n",
      "1    Bristol\n",
      "2     London\n",
      "3    Cardiff\n",
      "4  Edinburgh\n"
     ]
    }
   ],
   "source": [
    "citiesShort = pd.read_csv(r'C:\\Users\\PC03\\Documents\\GitHub\\COMP2002_MainAssignment\\cities_short_corrected.csv', header=None)\n",
    "print(citiesShort)"
   ]
  },
  {
   "cell_type": "code",
   "execution_count": 63,
   "id": "426d0021",
   "metadata": {},
   "outputs": [
    {
     "name": "stdout",
     "output_type": "stream",
     "text": [
      "[2, 17, 3, 8, 19, 0, 15, 5, 14, 7, 18, 1, 4, 13, 16, 9, 11, 10, 12]\n",
      "5224.0\n"
     ]
    }
   ],
   "source": [
    "import random\n",
    "# dislaying distances\n",
    "\n",
    "def randRoute(cities):\n",
    "    route = list(range(len(distances)))\n",
    "    #shuffeling cities\n",
    "    return random.sample(route, len(cities)-1)\n",
    "\n",
    "\n",
    "#working out length of route\n",
    "\n",
    "def route_length(route, dist):\n",
    "    length = 0 \n",
    "    for i in range(len(route)-1):\n",
    "       length += dist.iat[route[i], route[i+1]] # for how many cities are in the route, get distance of first city and next city\n",
    "\n",
    "    return length\n",
    "\n",
    "x = randRoute(cities)\n",
    "print (x)\n",
    "y = route_length(x, cities)\n",
    "print(y)"
   ]
  },
  {
   "cell_type": "code",
   "execution_count": 65,
   "id": "d61d8d84",
   "metadata": {},
   "outputs": [],
   "source": []
  }
 ],
 "metadata": {
  "kernelspec": {
   "display_name": "Python 3",
   "language": "python",
   "name": "python3"
  },
  "language_info": {
   "codemirror_mode": {
    "name": "ipython",
    "version": 3
   },
   "file_extension": ".py",
   "mimetype": "text/x-python",
   "name": "python",
   "nbconvert_exporter": "python",
   "pygments_lexer": "ipython3",
   "version": "3.9.5"
  }
 },
 "nbformat": 4,
 "nbformat_minor": 5
}
