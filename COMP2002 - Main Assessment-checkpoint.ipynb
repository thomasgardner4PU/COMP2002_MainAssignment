{
 "cells": [
  {
   "cell_type": "markdown",
   "id": "3d3757ba",
   "metadata": {},
   "source": [
    "# Part 1 - Machine Learning"
   ]
  },
  {
   "cell_type": "markdown",
   "id": "deeac3dd",
   "metadata": {},
   "source": [
    "Task 1.1 Data preperation"
   ]
  },
  {
   "cell_type": "code",
   "execution_count": 1,
   "id": "f5c33ac3",
   "metadata": {},
   "outputs": [
    {
     "name": "stdout",
     "output_type": "stream",
     "text": [
      "     day  month  year  Temperature   RH   Ws  Rain   FFMC  DMC    DC  ISI  \\\n",
      "0      1      6  2012           29   57   18    0.0  65.7  3.4   7.6  1.3   \n",
      "1      2      6  2012           29   61   13    1.3  64.4  4.1   7.6  1.0   \n",
      "2      3      6  2012           26   82   22   13.1  47.1  2.5   7.1  0.3   \n",
      "3      4      6  2012           25   89   13    2.5  28.6  1.3   6.9  0.0   \n",
      "4      5      6  2012           27   77   16    0.0  64.8  3.0  14.2  1.2   \n",
      "..   ...    ...   ...          ...  ...  ...    ...   ...  ...   ...  ...   \n",
      "117   26      9  2012           31   54   11    0.0  82.0  6.0  16.3  2.5   \n",
      "118   27      9  2012           31   66   11    0.0  85.7  8.3  24.9  4.0   \n",
      "119   28      9  2012           32   47   14    0.7  77.5  7.1   8.8  1.8   \n",
      "120   29      9  2012           26   80   16    1.8  47.4  2.9   7.7  0.3   \n",
      "121   30      9  2012           25   78   14    1.4  45.0  1.9   7.5  0.2   \n",
      "\n",
      "     BUI  FWI  \n",
      "0    3.4  0.5  \n",
      "1    3.9  0.4  \n",
      "2    2.7  0.1  \n",
      "3    1.7  0.0  \n",
      "4    3.9  0.5  \n",
      "..   ...  ...  \n",
      "117  6.2  1.7  \n",
      "118  9.0  4.1  \n",
      "119  6.8  0.9  \n",
      "120  3.0  0.1  \n",
      "121  2.4  0.1  \n",
      "\n",
      "[122 rows x 13 columns]\n"
     ]
    }
   ],
   "source": [
    "import pandas as pd\n",
    "\n",
    "df1 = pd.read_csv (r'C:\\Users\\PC03\\Documents\\GitHub\\COMP2002_MainAssignment\\CSV\\AlgerianFF_Region1.csv')\n",
    "print (df1)"
   ]
  },
  {
   "cell_type": "markdown",
   "id": "5cf8d090",
   "metadata": {},
   "source": [
    "Splitting data for dataset into inputs & targets for Dataset 1"
   ]
  },
  {
   "cell_type": "code",
   "execution_count": 2,
   "id": "b13f3752",
   "metadata": {},
   "outputs": [
    {
     "name": "stdout",
     "output_type": "stream",
     "text": [
      "     day  month  year  Temperature   RH   Ws  Rain   FFMC  DMC    DC  ISI  BUI\n",
      "0      1      6  2012           29   57   18    0.0  65.7  3.4   7.6  1.3  3.4\n",
      "1      2      6  2012           29   61   13    1.3  64.4  4.1   7.6  1.0  3.9\n",
      "2      3      6  2012           26   82   22   13.1  47.1  2.5   7.1  0.3  2.7\n",
      "3      4      6  2012           25   89   13    2.5  28.6  1.3   6.9  0.0  1.7\n",
      "4      5      6  2012           27   77   16    0.0  64.8  3.0  14.2  1.2  3.9\n",
      "..   ...    ...   ...          ...  ...  ...    ...   ...  ...   ...  ...  ...\n",
      "117   26      9  2012           31   54   11    0.0  82.0  6.0  16.3  2.5  6.2\n",
      "118   27      9  2012           31   66   11    0.0  85.7  8.3  24.9  4.0  9.0\n",
      "119   28      9  2012           32   47   14    0.7  77.5  7.1   8.8  1.8  6.8\n",
      "120   29      9  2012           26   80   16    1.8  47.4  2.9   7.7  0.3  3.0\n",
      "121   30      9  2012           25   78   14    1.4  45.0  1.9   7.5  0.2  2.4\n",
      "\n",
      "[122 rows x 12 columns] 0      0.5\n",
      "1      0.4\n",
      "2      0.1\n",
      "3      0.0\n",
      "4      0.5\n",
      "      ... \n",
      "117    1.7\n",
      "118    4.1\n",
      "119    0.9\n",
      "120    0.1\n",
      "121    0.1\n",
      "Name: FWI, Length: 122, dtype: float64\n"
     ]
    }
   ],
   "source": [
    "inputs1 = df1\n",
    "targets = df1.pop(\"FWI\")\n",
    "print(inputs1, targets)"
   ]
  },
  {
   "cell_type": "code",
   "execution_count": 3,
   "id": "88a8c5ee",
   "metadata": {},
   "outputs": [
    {
     "name": "stdout",
     "output_type": "stream",
     "text": [
      "     day  month  year  Temperature   RH   Ws  Rain   FFMC   DMC    DC  ISI  \\\n",
      "0      1      6  2012           32   71   12    0.7  57.1   2.5   8.2  0.6   \n",
      "1      2      6  2012           30   73   13    4.0  55.7   2.7   7.8  0.6   \n",
      "2      3      6  2012           29   80   14    2.0  48.7   2.2   7.6  0.3   \n",
      "3      4      6  2012           30   64   14    0.0  79.4   5.2  15.4  2.2   \n",
      "4      5      6  2012           32   60   14    0.2  77.1   6.0  17.6  1.8   \n",
      "..   ...    ...   ...          ...  ...  ...    ...   ...   ...   ...  ...   \n",
      "117   26      9  2012           30   65   14    0.0  85.4  16.0  44.5  4.5   \n",
      "118   27      9  2012           28   87   15    4.4  41.1   6.5   8.0  0.1   \n",
      "119   28      9  2012           27   87   29    0.5  45.9   3.5   7.9  0.4   \n",
      "120   29      9  2012           24   54   18    0.1  79.7   4.3  15.2  1.7   \n",
      "121   30      9  2012           24   64   15    0.2  67.3   3.8  16.5  1.2   \n",
      "\n",
      "      BUI  FWI  \n",
      "0     2.8  0.2  \n",
      "1     2.9  0.2  \n",
      "2     2.6  0.1  \n",
      "3     5.6  1.0  \n",
      "4     6.5  0.9  \n",
      "..    ...  ...  \n",
      "117  16.9  6.5  \n",
      "118   6.2  0.0  \n",
      "119   3.4  0.2  \n",
      "120   5.1  0.7  \n",
      "121   4.8  0.5  \n",
      "\n",
      "[122 rows x 13 columns]\n"
     ]
    }
   ],
   "source": [
    "import pandas as pd\n",
    "df2 = pd.read_csv (r'C:\\Users\\PC03\\Documents\\GitHub\\COMP2002_MainAssignment\\CSV\\AlgerianFF_Region2.csv')\n",
    "print (df2)"
   ]
  },
  {
   "cell_type": "markdown",
   "id": "f73b12a2",
   "metadata": {},
   "source": [
    "Splitting data for dataset into inputs & targets for Dataset 2"
   ]
  },
  {
   "cell_type": "code",
   "execution_count": 4,
   "id": "b0a58b68",
   "metadata": {},
   "outputs": [
    {
     "name": "stdout",
     "output_type": "stream",
     "text": [
      "     day  month  year  Temperature   RH   Ws  Rain   FFMC   DMC    DC  ISI  \\\n",
      "0      1      6  2012           32   71   12    0.7  57.1   2.5   8.2  0.6   \n",
      "1      2      6  2012           30   73   13    4.0  55.7   2.7   7.8  0.6   \n",
      "2      3      6  2012           29   80   14    2.0  48.7   2.2   7.6  0.3   \n",
      "3      4      6  2012           30   64   14    0.0  79.4   5.2  15.4  2.2   \n",
      "4      5      6  2012           32   60   14    0.2  77.1   6.0  17.6  1.8   \n",
      "..   ...    ...   ...          ...  ...  ...    ...   ...   ...   ...  ...   \n",
      "117   26      9  2012           30   65   14    0.0  85.4  16.0  44.5  4.5   \n",
      "118   27      9  2012           28   87   15    4.4  41.1   6.5   8.0  0.1   \n",
      "119   28      9  2012           27   87   29    0.5  45.9   3.5   7.9  0.4   \n",
      "120   29      9  2012           24   54   18    0.1  79.7   4.3  15.2  1.7   \n",
      "121   30      9  2012           24   64   15    0.2  67.3   3.8  16.5  1.2   \n",
      "\n",
      "      BUI  \n",
      "0     2.8  \n",
      "1     2.9  \n",
      "2     2.6  \n",
      "3     5.6  \n",
      "4     6.5  \n",
      "..    ...  \n",
      "117  16.9  \n",
      "118   6.2  \n",
      "119   3.4  \n",
      "120   5.1  \n",
      "121   4.8  \n",
      "\n",
      "[122 rows x 12 columns] 0      0.2\n",
      "1      0.2\n",
      "2      0.1\n",
      "3      1.0\n",
      "4      0.9\n",
      "      ... \n",
      "117    6.5\n",
      "118    0.0\n",
      "119    0.2\n",
      "120    0.7\n",
      "121    0.5\n",
      "Name: FWI, Length: 122, dtype: float64\n"
     ]
    }
   ],
   "source": [
    "inputs2 = df2\n",
    "targets = df2.pop(\"FWI\")\n",
    "print(inputs2, targets)"
   ]
  },
  {
   "cell_type": "markdown",
   "id": "73da125f",
   "metadata": {},
   "source": [
    "Noramlization"
   ]
  },
  {
   "cell_type": "code",
   "execution_count": 19,
   "id": "4b9a283e",
   "metadata": {
    "scrolled": true
   },
   "outputs": [
    {
     "name": "stdout",
     "output_type": "stream",
     "text": [
      "[1. 1. 0. 1. 1. 1. 1. 1. 1. 1. 1. 1.]\n"
     ]
    }
   ],
   "source": [
    "from sklearn.preprocessing import MinMaxScaler\n",
    "\n",
    "scaler1 = MinMaxScaler()\n",
    "scaleddataset1 = scaler.fit_transform(df1)\n",
    "#print(df1.ptp(axis=0))\n",
    "#print(df2.ptp(axis=0))\n",
    "print(scaled.ptp(axis=0))"
   ]
  },
  {
   "cell_type": "code",
   "execution_count": 12,
   "id": "5916008d",
   "metadata": {},
   "outputs": [
    {
     "name": "stdout",
     "output_type": "stream",
     "text": [
      "[1. 1. 0. 1. 1. 1. 1. 1. 1. 1. 1. 1.]\n"
     ]
    }
   ],
   "source": [
    "scaler2 = MinMaxScaler()\n",
    "scaledDataset2 = scaler.fit_transform(df1)\n",
    "print(scaled.ptp(axis=0))"
   ]
  },
  {
   "cell_type": "markdown",
   "id": "53d02210",
   "metadata": {},
   "source": [
    "Task 1.2 Regression "
   ]
  },
  {
   "cell_type": "code",
   "execution_count": 59,
   "id": "86d35ba4",
   "metadata": {},
   "outputs": [],
   "source": [
    "from sklearn.svm import SVR\n",
    "from sklearn.neural_network import MLPRegressor\n",
    "from sklearn.ensemble import RandomForestRegressor"
   ]
  },
  {
   "cell_type": "code",
   "execution_count": 71,
   "id": "7d2c4e4b",
   "metadata": {},
   "outputs": [
    {
     "name": "stdout",
     "output_type": "stream",
     "text": [
      "0.001200081450502307\n"
     ]
    }
   ],
   "source": [
    "from sklearn.metrics import mean_absolute_error\n",
    "\n",
    "regressor = MLPRegressor(solver='lbfgs', max_iter=4000)\n",
    "regressor.fit(scaleddataset1, targets)\n",
    "outputs = regressor.predict(scaleddataset1)\n",
    "print(mean_absolute_error(targets, outputs))"
   ]
  },
  {
   "cell_type": "markdown",
   "id": "944efa2f",
   "metadata": {},
   "source": [
    "Task 1.3 Assessment of regression"
   ]
  },
  {
   "cell_type": "code",
   "execution_count": null,
   "id": "a1b62546",
   "metadata": {},
   "outputs": [],
   "source": []
  }
 ],
 "metadata": {
  "kernelspec": {
   "display_name": "Python 3",
   "language": "python",
   "name": "python3"
  },
  "language_info": {
   "codemirror_mode": {
    "name": "ipython",
    "version": 3
   },
   "file_extension": ".py",
   "mimetype": "text/x-python",
   "name": "python",
   "nbconvert_exporter": "python",
   "pygments_lexer": "ipython3",
   "version": "3.9.4"
  }
 },
 "nbformat": 4,
 "nbformat_minor": 5
}
